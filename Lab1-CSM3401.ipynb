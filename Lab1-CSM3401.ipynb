{
 "cells": [
  {
   "cell_type": "code",
   "execution_count": 3,
   "metadata": {},
   "outputs": [
    {
     "name": "stdout",
     "output_type": "stream",
     "text": [
      "Hello\n",
      "World!\n"
     ]
    }
   ],
   "source": [
    "print(\"Hello\\nWorld!\")"
   ]
  },
  {
   "cell_type": "code",
   "execution_count": 4,
   "metadata": {},
   "outputs": [
    {
     "name": "stdout",
     "output_type": "stream",
     "text": [
      "5\n"
     ]
    }
   ],
   "source": [
    "print(2+3)"
   ]
  },
  {
   "cell_type": "code",
   "execution_count": 6,
   "metadata": {},
   "outputs": [
    {
     "name": "stdout",
     "output_type": "stream",
     "text": [
      "a before 1\n",
      "b before 3.142\n",
      "a after 1\n",
      "b after Porche\n"
     ]
    }
   ],
   "source": [
    "a=1\n",
    "b=3.142\n",
    "print(\"a before\", a)\n",
    "print(\"b before\", b)\n",
    "if b>a:\n",
    "    b='Porche' #b will store another value if true\n",
    "print(\"a after\", a)\n",
    "print(\"b after\", b)"
   ]
  },
  {
   "cell_type": "code",
   "execution_count": 10,
   "metadata": {},
   "outputs": [
    {
     "name": "stdout",
     "output_type": "stream",
     "text": [
      "Porche\n",
      "Porche\n"
     ]
    }
   ],
   "source": [
    "car1=car2='Porche'\n",
    "print(car1)\n",
    "print(car2)"
   ]
  },
  {
   "cell_type": "code",
   "execution_count": 15,
   "metadata": {},
   "outputs": [
    {
     "name": "stdout",
     "output_type": "stream",
     "text": [
      "My name is Reo Teoh\n"
     ]
    }
   ],
   "source": [
    "fName = 'Reo'\n",
    "lName = 'Teoh'\n",
    "print(\"My name is \" + fName + \" \" + lName)"
   ]
  },
  {
   "cell_type": "code",
   "execution_count": 16,
   "metadata": {},
   "outputs": [
    {
     "name": "stdout",
     "output_type": "stream",
     "text": [
      "Ipoh\n",
      "Ipoh\n"
     ]
    }
   ],
   "source": [
    "birthPlace = \"Taiping\"\n",
    "def function1():\n",
    "    global birthPlace\n",
    "    birthPlace = \"Ipoh\"\n",
    "    print(birthPlace)\n",
    "\n",
    "function1()\n",
    "print(birthPlace)"
   ]
  },
  {
   "cell_type": "code",
   "execution_count": 42,
   "metadata": {},
   "outputs": [
    {
     "name": "stdout",
     "output_type": "stream",
     "text": [
      "['Pulau Pinang', 'Ipoh', 'Kuala Lumpur']\n",
      "<class 'list'>\n",
      "Ipoh\n",
      "64\n"
     ]
    }
   ],
   "source": [
    "e=[\"Pulau Pinang\", \"Ipoh\", \"Kuala Lumpur\"]\n",
    "print(e)\n",
    "print(type(e)) #type of list/array\n",
    "print(e[1])\n",
    "print(e.__sizeof__())"
   ]
  },
  {
   "cell_type": "code",
   "execution_count": 39,
   "metadata": {},
   "outputs": [
    {
     "name": "stdout",
     "output_type": "stream",
     "text": [
      "('Pulau Pinang', 'Ipoh', 'Kuala Lumpur')\n",
      "<class 'tuple'>\n",
      "48\n"
     ]
    }
   ],
   "source": [
    "e=('Pulau Pinang', 'Ipoh', 'Kuala Lumpur')\n",
    "print(e)\n",
    "print(type(e)) #type of list/array\n",
    "print(e.__sizeof__())"
   ]
  },
  {
   "cell_type": "code",
   "execution_count": 40,
   "metadata": {},
   "outputs": [
    {
     "name": "stdout",
     "output_type": "stream",
     "text": [
      "1 2 3 4\n",
      "1|2|3|4."
     ]
    }
   ],
   "source": [
    "#separator\n",
    "print(1,2,3,4)\n",
    "print(1,2,3,4, sep=\"|\", end=\".\")"
   ]
  },
  {
   "cell_type": "code",
   "execution_count": 41,
   "metadata": {},
   "outputs": [
    {
     "name": "stdout",
     "output_type": "stream",
     "text": [
      "I am 22 years old in 2020\n"
     ]
    }
   ],
   "source": [
    "#formating the output\n",
    "x=22\n",
    "y=2020\n",
    "print(\"I am {} years old in {}\".format(x,y))"
   ]
  },
  {
   "cell_type": "code",
   "execution_count": 43,
   "metadata": {},
   "outputs": [
    {
     "name": "stdout",
     "output_type": "stream",
     "text": [
      "what is your name?Reo\n",
      "my name is Reo\n"
     ]
    }
   ],
   "source": [
    "#accepting input from user\n",
    "z = input(\"what is your name?\")\n",
    "print(\"my name is {}\".format(z))"
   ]
  },
  {
   "cell_type": "code",
   "execution_count": null,
   "metadata": {},
   "outputs": [],
   "source": []
  }
 ],
 "metadata": {
  "kernelspec": {
   "display_name": "Python 3",
   "language": "python",
   "name": "python3"
  },
  "language_info": {
   "codemirror_mode": {
    "name": "ipython",
    "version": 3
   },
   "file_extension": ".py",
   "mimetype": "text/x-python",
   "name": "python",
   "nbconvert_exporter": "python",
   "pygments_lexer": "ipython3",
   "version": "3.8.5"
  }
 },
 "nbformat": 4,
 "nbformat_minor": 4
}
