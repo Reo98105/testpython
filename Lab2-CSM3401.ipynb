{
 "cells": [
  {
   "cell_type": "code",
   "execution_count": 10,
   "metadata": {},
   "outputs": [
    {
     "name": "stdout",
     "output_type": "stream",
     "text": [
      "Please input the first number...20\n",
      "Please input the second number...2000\n",
      "The product of both numbers is 40000\n"
     ]
    }
   ],
   "source": [
    "fNum = input(\"Please input the first number...\")\n",
    "sNum = input(\"Please input the second number...\")\n",
    "amount = int(fNum)*int(sNum)\n",
    "if amount>1000:\n",
    "    print(\"The product of both numbers is {}\".format(int(fNum)*int(sNum)))\n",
    "else:\n",
    "    print(\"The product is less then 1000 hence no output will be displayed...\")"
   ]
  },
  {
   "cell_type": "code",
   "execution_count": 12,
   "metadata": {},
   "outputs": [
    {
     "name": "stdout",
     "output_type": "stream",
     "text": [
      "Enter 2 numbers\n",
      "first number5\n",
      "second number6\n",
      "Sum of these two numbers is  11\n"
     ]
    }
   ],
   "source": [
    "#define function sum\n",
    "def sum():\n",
    "    fi = input(\"first number \")\n",
    "    si = input(\"second number \")\n",
    "    ht = int(fi) + int(si)\n",
    "    return ht\n",
    "\n",
    "#main program\n",
    "print(\"Enter 2 numbers\")\n",
    "rv = sum()\n",
    "print(\"Sum of these two numbers is \", rv)"
   ]
  },
  {
   "cell_type": "code",
   "execution_count": 13,
   "metadata": {},
   "outputs": [
    {
     "name": "stdout",
     "output_type": "stream",
     "text": [
      "Enter 2 numbers...\n",
      "first number 5\n",
      "second number 10\n",
      "Sum of these two numbers is  15\n"
     ]
    }
   ],
   "source": [
    "def sum(num1, num2):\n",
    "    ht = int(fi) + int(si)\n",
    "    return ht\n",
    "\n",
    "print(\"Enter 2 numbers...\")\n",
    "fi = input(\"first number \")\n",
    "si = input(\"second number \")\n",
    "rv = sum(fi, si)\n",
    "print(\"Sum of these two numbers is \", rv)"
   ]
  },
  {
   "cell_type": "code",
   "execution_count": 16,
   "metadata": {},
   "outputs": [
    {
     "name": "stdout",
     "output_type": "stream",
     "text": [
      "x+y = 6\n",
      "x*y = 8\n",
      "x-y = -2\n",
      "x/y = 0.5\n",
      "x**x = 4\n",
      "7//2 = 3\n",
      "2//4 = 0\n",
      "y%x = 0\n"
     ]
    }
   ],
   "source": [
    "#sum\n",
    "x=2\n",
    "y=4\n",
    "print(\"x+y =\", x+y)\n",
    "print(\"x*y =\", x*y)\n",
    "print(\"x-y =\", x-y)\n",
    "print(\"x/y =\", x/y)\n",
    "print(\"x**x =\", x**x)\n",
    "print(\"7//2 =\", 7//2)\n",
    "print(\"2//4 =\", 2//4)\n",
    "print(\"y%x =\", y%x)"
   ]
  },
  {
   "cell_type": "code",
   "execution_count": 17,
   "metadata": {},
   "outputs": [
    {
     "name": "stdout",
     "output_type": "stream",
     "text": [
      "y and x: False\n",
      "x or y: False\n"
     ]
    }
   ],
   "source": [
    "x=True\n",
    "y=False\n",
    "print(\"y and x:\", y>x)\n",
    "print(\"x or y:\", x<y)"
   ]
  },
  {
   "cell_type": "code",
   "execution_count": 20,
   "metadata": {},
   "outputs": [
    {
     "name": "stdout",
     "output_type": "stream",
     "text": [
      "Enter your body temperature: 36\n",
      "You are healthy.\n"
     ]
    }
   ],
   "source": [
    "def fever(temp):\n",
    "    if temp >= 38:\n",
    "        print(\"You have a fever. Go to the clinic.\")\n",
    "    else:\n",
    "        print(\"You are healthy.\")\n",
    "        \n",
    "check = input(\"Enter your body temperature: \")\n",
    "f = fever(int(check))"
   ]
  },
  {
   "cell_type": "code",
   "execution_count": 21,
   "metadata": {},
   "outputs": [
    {
     "name": "stdout",
     "output_type": "stream",
     "text": [
      "Enter your body temperature: 38\n",
      "You have a fever. Go to the clinic.\n"
     ]
    }
   ],
   "source": [
    "def fever(temp):\n",
    "    if temp >= 38:\n",
    "        print(\"You have a fever. Go to the clinic.\")\n",
    "    else:\n",
    "        print(\"You are healthy.\")\n",
    "        \n",
    "check = input(\"Enter your body temperature: \")\n",
    "f = fever(int(check))"
   ]
  },
  {
   "cell_type": "code",
   "execution_count": 33,
   "metadata": {},
   "outputs": [
    {
     "name": "stdout",
     "output_type": "stream",
     "text": [
      "Enter your income: 45000\n",
      "Total tax to pay is  6000.0\n"
     ]
    }
   ],
   "source": [
    "def tax(amount):\n",
    "    if amount < 10000:\n",
    "        tax = 0\n",
    "    elif amount <= 20000:\n",
    "        tax = (amount-10000) * 0.1\n",
    "    else:\n",
    "        tax = 0\n",
    "        tax = 10000 * 0.1\n",
    "        tax += (amount - 20000) * 0.2\n",
    "    \n",
    "    return tax\n",
    "\n",
    "income = input(\"Enter your income: \")\n",
    "i = tax(int(income))\n",
    "print(\"Total tax to pay is \", i)"
   ]
  },
  {
   "cell_type": "code",
   "execution_count": null,
   "metadata": {},
   "outputs": [],
   "source": []
  },
  {
   "cell_type": "code",
   "execution_count": null,
   "metadata": {},
   "outputs": [],
   "source": []
  }
 ],
 "metadata": {
  "kernelspec": {
   "display_name": "Python 3",
   "language": "python",
   "name": "python3"
  },
  "language_info": {
   "codemirror_mode": {
    "name": "ipython",
    "version": 3
   },
   "file_extension": ".py",
   "mimetype": "text/x-python",
   "name": "python",
   "nbconvert_exporter": "python",
   "pygments_lexer": "ipython3",
   "version": "3.8.5"
  }
 },
 "nbformat": 4,
 "nbformat_minor": 4
}
